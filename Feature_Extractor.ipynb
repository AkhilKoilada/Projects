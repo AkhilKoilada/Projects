{
  "nbformat": 4,
  "nbformat_minor": 0,
  "metadata": {
    "colab": {
      "name": "Feature Extractor.ipynb",
      "provenance": [],
      "collapsed_sections": []
    },
    "kernelspec": {
      "name": "python3",
      "display_name": "Python 3"
    },
    "accelerator": "GPU"
  },
  "cells": [
    {
      "cell_type": "code",
      "metadata": {
        "id": "XPLKauB1tq0w",
        "colab_type": "code",
        "colab": {}
      },
      "source": [
        "import numpy as np\n",
        "import pandas as pd\n",
        "import torch\n",
        "import torchvision\n",
        "from torchvision import datasets,models,transforms\n",
        "from torch import nn\n",
        "import torch.nn.functional as F\n",
        "from torch import optim\n",
        "import sklearn"
      ],
      "execution_count": null,
      "outputs": []
    },
    {
      "cell_type": "code",
      "metadata": {
        "id": "ViMMmI0NuPgi",
        "colab_type": "code",
        "colab": {}
      },
      "source": [
        "train_transforms=transforms.Compose([\n",
        "                                     transforms.RandomRotation(30),\n",
        "                                     transforms.Resize((224,224)),\n",
        "                                    transforms.RandomHorizontalFlip(),\n",
        "                                     transforms.ToTensor(),\n",
        "                                     transforms.Normalize(mean=[0.485, 0.456, 0.406], \n",
        "                                                            std=[0.229, 0.224, 0.225])])\n",
        "test_transforms=transforms.Compose([\n",
        "                                    transforms.Resize((224,224)),\n",
        "                                      transforms.ToTensor(),\n",
        "                                      transforms.Normalize(mean=[0.485, 0.456, 0.406], \n",
        "                                                            std=[0.229, 0.224, 0.225])])"
      ],
      "execution_count": null,
      "outputs": []
    },
    {
      "cell_type": "code",
      "metadata": {
        "id": "QEG_Iqkbv5nV",
        "colab_type": "code",
        "colab": {}
      },
      "source": [
        "train_data=datasets.ImageFolder('/content/drive/My Drive/DataSet/train',transform=train_transforms)\n",
        "val_data=datasets.ImageFolder('/content/drive/My Drive/DataSet/validation',transform=test_transforms)\n",
        "test_data=datasets.ImageFolder('/content/drive/My Drive/DataSet/test',transform=test_transforms)"
      ],
      "execution_count": null,
      "outputs": []
    },
    {
      "cell_type": "code",
      "metadata": {
        "id": "kh-KjEpoxL5m",
        "colab_type": "code",
        "colab": {}
      },
      "source": [
        "train_load=torch.utils.data.DataLoader(train_data,batch_size=100,shuffle=False)\n",
        "val_load=torch.utils.data.DataLoader(val_data,batch_size=100,shuffle=False)\n",
        "test_load=torch.utils.data.DataLoader(test_data,batch_size=100,shuffle=False)"
      ],
      "execution_count": null,
      "outputs": []
    },
    {
      "cell_type": "code",
      "metadata": {
        "id": "HxBppP1fx4UD",
        "colab_type": "code",
        "colab": {}
      },
      "source": [
        "class Mish(nn.Module):\n",
        "  def __init__(self):\n",
        "    super().__init__()\n",
        "  def forward(self,x):\n",
        "    return x*(torch.tanh(F.softplus(x)))"
      ],
      "execution_count": null,
      "outputs": []
    },
    {
      "cell_type": "code",
      "metadata": {
        "id": "lrEPDQn_yLe7",
        "colab_type": "code",
        "colab": {}
      },
      "source": [
        "def save_checkpoint(state,is_best,filepath='/content/drive/My Drive/DataSet/resnet18.pth'):\n",
        "  if is_best:\n",
        "    print(\"==> Saving new best\")\n",
        "    torch.save(state,filepath)"
      ],
      "execution_count": null,
      "outputs": []
    },
    {
      "cell_type": "code",
      "metadata": {
        "id": "CxMbCTB6yN6A",
        "colab_type": "code",
        "colab": {}
      },
      "source": [
        "def load_checkpoint(checkpoint_fpath,model):\n",
        "  checkpoint=torch.load(checkpoint_fpath)\n",
        "  model.load_state_dict(checkpoint['state_dict'])\n",
        "  return model, checkpoint['epoch'],checkpoint['last']"
      ],
      "execution_count": null,
      "outputs": []
    },
    {
      "cell_type": "code",
      "metadata": {
        "id": "atW_TscpyPlI",
        "colab_type": "code",
        "colab": {}
      },
      "source": [
        "device='cuda'\n",
        "new_model=models.resnet18(pretrained=True)\n",
        "\n",
        "num_labels=7\n",
        "class Net(nn.Module):\n",
        "  def __init__(self):\n",
        "    super(Net, self).__init__()\n",
        "    \n",
        "    self.cnn_layer= torch.nn.Sequential(*(list(new_model.children())[:-1]))\n",
        "    self.fc=torch.nn.Sequential(nn.Linear(512,7,bias=True),\n",
        "                      \n",
        "                                nn.LogSoftmax(dim=1))\n",
        "    \n",
        "  def forward(self,x):\n",
        "    out=self.cnn_layer(x)\n",
        "    out = out.view(out.size(0),-1)\n",
        "    x1=out\n",
        "    out=self.fc(out)\n",
        "    return x1,out\n",
        "model=Net()\n",
        "model.to(device)"
      ],
      "execution_count": null,
      "outputs": []
    },
    {
      "cell_type": "code",
      "metadata": {
        "id": "O14MUISY0QEl",
        "colab_type": "code",
        "colab": {}
      },
      "source": [
        "criterion=nn.NLLLoss()\n",
        "optimizer=optim.Adam(model.parameters(),lr=1e-4,weight_decay=0.0005)"
      ],
      "execution_count": null,
      "outputs": []
    },
    {
      "cell_type": "code",
      "metadata": {
        "id": "qxL7Nh3h1O1U",
        "colab_type": "code",
        "colab": {}
      },
      "source": [
        "epochs=100\n",
        "train_x=[]\n",
        "val_x=[]\n",
        "test_x=[]\n",
        "# model,_,_=load_checkpoint('/content/drive/My Drive/DataSet/untitled2.pth',model)\n",
        "trainloss_data=[]\n",
        "accuracy_data=[]\n",
        "valloss_data=[]\n",
        "best_acc=0\n",
        "best_val=1000\n",
        "for epoch in range(epochs):\n",
        "  train_loss=0\n",
        "  val_loss=0\n",
        "  accuracy=0\n",
        "\n",
        "  model.train()\n",
        "  counter=0\n",
        "  for inputs,labels in train_load: \n",
        "    counter+=1\n",
        "    inputs,labels=inputs.to(device),labels.to(device)\n",
        "    optimizer.zero_grad()\n",
        "    last,output=model.forward(inputs)\n",
        "    train_x.append(last)\n",
        "    loss=criterion(output,labels)\n",
        "    \n",
        "    loss.backward()\n",
        "    optimizer.step()\n",
        "    print(counter)\n",
        "    train_loss+=loss.item()*inputs.size(0)\n",
        "    \n",
        "  model.eval()\n",
        "  \n",
        "  with torch.no_grad():\n",
        "    counter=0\n",
        "    val_loss=0\n",
        "    for inputs,labels in val_load:\n",
        "      counter+=1\n",
        "      inputs,labels=inputs.to(device),labels.to(device)\n",
        "      last,output=model.forward(inputs)\n",
        "      valloss=criterion(output,labels)\n",
        "      val_loss+=valloss*inputs.size(0)\n",
        "      val_x.append(last)\n",
        "\n",
        "      output=torch.exp(output)\n",
        "      top_p,top_class=output.topk(1,dim=1)\n",
        "      equals=top_class==labels.view(*top_class.shape)\n",
        "      accuracy+=torch.mean(equals.type(torch.FloatTensor))\n",
        "      print(counter)\n",
        "  \n",
        "  accuracy=accuracy/len(val_load)\n",
        "  train_loss=train_loss/len(train_load.dataset)\n",
        "  val_loss=val_loss/len(val_load.dataset)\n",
        "  is_best = bool(best_acc<accuracy)\n",
        "  print(\"Epoch : \",epoch+1)\n",
        "  print(is_best)\n",
        "  if is_best==True:\n",
        "    best_acc=accuracy\n",
        "    save_checkpoint({\n",
        "          'epoch': epoch + 1,\n",
        "          'state_dict': model.state_dict(),\n",
        "        'best_accuracy': best_acc,\n",
        "          'last':last\n",
        "    }, is_best)\n",
        "  \n",
        "\n",
        "\n",
        "  trainloss_data.append(float('{:.3f}'.format(train_loss)))\n",
        "  valloss_data.append(float('{:.3f}'.format(val_loss)))\n",
        "  accuracy_data.append(float('{:.4f}'.format(accuracy)))\n",
        "  print(\"Accuracy : {:.6f}\".format(accuracy))\n",
        "  print('Training Loss: {:.6f} \\tValidation Loss: {:.6f}'.format(train_loss, val_loss))"
      ],
      "execution_count": null,
      "outputs": []
    },
    {
      "cell_type": "code",
      "metadata": {
        "id": "phuY6DDf2HZE",
        "colab_type": "code",
        "colab": {}
      },
      "source": [
        "test_x=[]\n",
        "model.eval()\n",
        "model,_,_=load_checkpoint('/content/drive/My Drive/DataSet/resnet18.pth',model)\n",
        "  \n",
        "with torch.no_grad():\n",
        "  counter=0\n",
        "  test_loss=0\n",
        "  accuracy=0\n",
        "  for inputs,labels in test_load:\n",
        "    counter+=1\n",
        "    inputs,labels=inputs.to(device),labels.to(device)\n",
        "    last,output=model.forward(inputs)\n",
        "    testloss=criterion(output,labels)\n",
        "    test_loss+=testloss*inputs.size(0)\n",
        "    test_x.append(last)\n",
        "\n",
        "    output=torch.exp(output)\n",
        "    top_p,top_class=output.topk(1,dim=1)\n",
        "    equals=top_class==labels.view(*top_class.shape)\n",
        "    accuracy+=torch.mean(equals.type(torch.FloatTensor))\n",
        "    print(counter)\n",
        "\n",
        "accuracy=accuracy/len(test_load)\n",
        "\n",
        "test_loss=test_loss/len(test_load.dataset)\n",
        "\n",
        "print(\"Accuracy : {:.6f}\".format(accuracy))\n",
        "print(\"Test Loss: {:.6f}\".format(test_loss))"
      ],
      "execution_count": null,
      "outputs": []
    },
    {
      "cell_type": "code",
      "metadata": {
        "id": "ryhBd12f-eeZ",
        "colab_type": "code",
        "colab": {}
      },
      "source": [
        "model,_,_=load_checkpoint('/content/drive/My Drive/DataSet/resnet18.pth',model)\n",
        "\n",
        "train_2_transforms=transforms.Compose([\n",
        "                                    transforms.Resize((224,224)),\n",
        "                                     transforms.ToTensor()\n",
        "                                     ])\n",
        "test_2_transforms=transforms.Compose([\n",
        "                                    transforms.Resize((224,224)),\n",
        "                                    transforms.ToTensor()])\n",
        "\n",
        "train_2_data=datasets.ImageFolder('/content/drive/My Drive/DataSet/train',transform=train_2_transforms)\n",
        "val_2_data=datasets.ImageFolder('/content/drive/My Drive/DataSet/validation',transform=test_2_transforms)\n",
        "test_2_data=datasets.ImageFolder('/content/drive/My Drive/DataSet/test',transform=test_2_transforms)\n",
        "\n",
        "train_load_2=torch.utils.data.DataLoader(train_2_data,batch_size=1,shuffle=False,num_workers=16)\n",
        "val_load_2=torch.utils.data.DataLoader(val_2_data,batch_size=1,shuffle=False,num_workers=16)\n",
        "test_load_2=torch.utils.data.DataLoader(test_2_data,batch_size=1,shuffle=False,num_workers=16)\n"
      ],
      "execution_count": null,
      "outputs": []
    },
    {
      "cell_type": "code",
      "metadata": {
        "id": "pOoK66TFzDnG",
        "colab_type": "code",
        "colab": {}
      },
      "source": [
        "model=model.to('cuda')\n",
        "model.eval()\n",
        "model,_,_=load_checkpoint('/content/drive/My Drive/DataSet/resnet18.pth',model)\n",
        "with torch.no_grad():\n",
        "  counter=0\n",
        "  test_loss=0\n",
        "  accuracy=0\n",
        "  for inputs,labels in train_load_2:\n",
        "    counter+=1\n",
        "    inputs,labels=inputs.to(device),labels.to(device)\n",
        "    _,output=model.forward(inputs)\n",
        "    testloss=criterion(output,labels)\n",
        "    test_loss+=testloss*inputs.size(0)\n",
        "\n",
        "    output=torch.exp(output)\n",
        "    top_p,top_class=output.topk(1,dim=1)\n",
        "    equals=top_class==labels.view(*top_class.shape)\n",
        "    accuracy+=torch.mean(equals.type(torch.FloatTensor))\n",
        "    print(counter)\n",
        "\n",
        "accuracy=accuracy/len(train_load_2)\n",
        "\n",
        "test_loss=test_loss/len(train_load_2.dataset)\n",
        "\n",
        "print(\"Accuracy : {:.6f}\".format(accuracy))\n",
        "print(\"Train Loss: {:.6f}\".format(test_loss))"
      ],
      "execution_count": null,
      "outputs": []
    },
    {
      "cell_type": "code",
      "metadata": {
        "id": "EYELLc4ezWfF",
        "colab_type": "code",
        "colab": {}
      },
      "source": [
        "model.eval()\n",
        "model,_,_=load_checkpoint('/content/drive/My Drive/DataSet/resnet18.pth',model)\n",
        "with torch.no_grad():\n",
        "  counter=0\n",
        "  test_loss=0\n",
        "  accuracy=0\n",
        "  for inputs,labels in val_load_2:\n",
        "    counter+=1\n",
        "    inputs,labels=inputs.to(device),labels.to(device)\n",
        "    _,output=model.forward(inputs)\n",
        "    testloss=criterion(output,labels)\n",
        "    test_loss+=testloss*inputs.size(0)\n",
        "\n",
        "    output=torch.exp(output)\n",
        "    top_p,top_class=output.topk(1,dim=1)\n",
        "    equals=top_class==labels.view(*top_class.shape)\n",
        "    accuracy+=torch.mean(equals.type(torch.FloatTensor))\n",
        "    print(counter)\n",
        "\n",
        "accuracy=accuracy/len(val_load_2)\n",
        "\n",
        "test_loss=test_loss/len(val_load_2.dataset)\n",
        "\n",
        "print(\"Accuracy : {:.6f}\".format(accuracy))\n",
        "print(\"Val Loss: {:.6f}\".format(test_loss))"
      ],
      "execution_count": null,
      "outputs": []
    },
    {
      "cell_type": "code",
      "metadata": {
        "id": "whs5WSXozWZz",
        "colab_type": "code",
        "colab": {}
      },
      "source": [
        "model.eval()\n",
        "model,_,_=load_checkpoint('/content/drive/My Drive/DataSet/resnet18.pth',model)\n",
        "with torch.no_grad():\n",
        "  counter=0\n",
        "  test_loss=0\n",
        "  accuracy=0\n",
        "  for inputs,labels in test_load_2:\n",
        "    counter+=1\n",
        "    inputs,labels=inputs.to(device),labels.to(device)\n",
        "    _,output=model.forward(inputs)\n",
        "    testloss=criterion(output,labels)\n",
        "    test_loss+=testloss*inputs.size(0)\n",
        "\n",
        "    output=torch.exp(output)\n",
        "    top_p,top_class=output.topk(1,dim=1)\n",
        "    equals=top_class==labels.view(*top_class.shape)\n",
        "    accuracy+=torch.mean(equals.type(torch.FloatTensor))\n",
        "    print(counter)\n",
        "\n",
        "accuracy=accuracy/len(test_load_2)\n",
        "\n",
        "test_loss=test_loss/len(test_load_2.dataset)\n",
        "\n",
        "print(\"Accuracy : {:.6f}\".format(accuracy))\n",
        "print(\"Test Loss: {:.6f}\".format(test_loss))"
      ],
      "execution_count": null,
      "outputs": []
    },
    {
      "cell_type": "code",
      "metadata": {
        "id": "Sq_z0vQjE8_j",
        "colab_type": "code",
        "colab": {}
      },
      "source": [
        "model.eval()\n",
        "model,_,_=load_checkpoint('/content/drive/My Drive/DataSet/resnet18.pth',model)\n",
        "data1=[]\n",
        "data2=[]\n",
        "data3=[]\n",
        "label=[]\n",
        "with torch.no_grad():\n",
        "  for inputs,labels in train_load_2:\n",
        "    inputs,labels=inputs.to(device),labels.to(device)\n",
        "    last,output=model.forward(inputs)\n",
        "    data1.append(last.cpu().numpy().tolist()[0])\n",
        "    label.append(labels.cpu().numpy().tolist()[0])\n",
        "\n",
        "  for inputs,labels in val_load_2:\n",
        "    inputs,labels=inputs.to(device),labels.to(device)\n",
        "    last,output=model.forward(inputs)\n",
        "    data2.append(last.cpu().numpy().tolist()[0])\n",
        "    label.append(labels.cpu().numpy().tolist()[0])\n",
        "  \n",
        "  for inputs,labels in test_load_2:\n",
        "    inputs,labels=inputs.to(device),labels.to(device)\n",
        "    last,output=model.forward(inputs)\n",
        "    data3.append(last.cpu().numpy().tolist()[0])\n",
        "    label.append(labels.cpu().numpy().tolist()[0])"
      ],
      "execution_count": null,
      "outputs": []
    },
    {
      "cell_type": "code",
      "metadata": {
        "id": "wLP6_wPgFRTl",
        "colab_type": "code",
        "colab": {}
      },
      "source": [
        "data=data1+data2+data3"
      ],
      "execution_count": null,
      "outputs": []
    },
    {
      "cell_type": "code",
      "metadata": {
        "id": "ZiKFLiLWRiaf",
        "colab_type": "code",
        "colab": {}
      },
      "source": [
        "df=pd.DataFrame(data)\n",
        "df.to_csv('/content/drive/My Drive/DataSet/herlev_resnet18.csv')\n",
        "df2=pd.DataFrame(label)\n",
        "df2.to_csv('/content/drive/My Drive/DataSet/label_resnet18.csv')\n",
        " "
      ],
      "execution_count": null,
      "outputs": []
    }
  ]
}