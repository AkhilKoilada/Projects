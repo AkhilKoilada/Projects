{
  "nbformat": 4,
  "nbformat_minor": 0,
  "metadata": {
    "colab": {
      "name": "Harmony_Search.ipynb",
      "provenance": [],
      "collapsed_sections": []
    },
    "kernelspec": {
      "name": "python3",
      "display_name": "Python 3"
    }
  },
  "cells": [
    {
      "cell_type": "code",
      "metadata": {
        "id": "4JmjwUSA2wBy",
        "colab_type": "code",
        "colab": {}
      },
      "source": [
        "import numpy\n",
        "import pandas as pd\n",
        "import sklearn\n",
        "from sklearn.model_selection import train_test_split\n",
        "from sklearn import datasets,svm,metrics\n",
        "import math\n",
        "from sklearn.model_selection import KFold\n",
        "from sklearn.neighbors import KNeighborsClassifier\n",
        "from sklearn.neural_network import MLPClassifier\n",
        "from sklearn.metrics import confusion_matrix"
      ],
      "execution_count": null,
      "outputs": []
    },
    {
      "cell_type": "code",
      "metadata": {
        "id": "UgIkzcqtQWac",
        "colab_type": "code",
        "colab": {}
      },
      "source": [
        "data_inputs=pd.read_csv('/content/drive/My Drive/DataSet/Sipak_googlenet.csv')\n",
        "data_outputs=pd.read_csv('/content/drive/My Drive/DataSet/sipak_label_googlenet.csv')\n",
        "data_inputs=data_inputs.to_numpy()\n",
        "data_outputs=data_outputs.to_numpy()\n",
        "data_inputs=data_inputs[:,1:]\n",
        "data_outputs=data_outputs[:,1]"
      ],
      "execution_count": null,
      "outputs": []
    },
    {
      "cell_type": "code",
      "metadata": {
        "id": "SFiF1Emc9XN7",
        "colab_type": "code",
        "colab": {}
      },
      "source": [
        "print(data_outputs.shape)\n",
        "print(data_inputs.shape)"
      ],
      "execution_count": null,
      "outputs": []
    },
    {
      "cell_type": "code",
      "metadata": {
        "id": "fz-PxGRtyiql",
        "colab_type": "code",
        "colab": {}
      },
      "source": [
        "kf=KFold(5,True,random_state=1)"
      ],
      "execution_count": null,
      "outputs": []
    },
    {
      "cell_type": "code",
      "metadata": {
        "id": "ebQ89od226Tj",
        "colab_type": "code",
        "colab": {}
      },
      "source": [
        "HMS=50\n",
        "num_samples = data_inputs.shape[0]\n",
        "num_feature_elements = data_inputs.shape[1]"
      ],
      "execution_count": null,
      "outputs": []
    },
    {
      "cell_type": "code",
      "metadata": {
        "id": "GpWO5F5q26Rg",
        "colab_type": "code",
        "colab": {}
      },
      "source": [
        "HM_shape=(HMS,num_feature_elements)\n",
        "HMCR=0.9\n",
        "PARmin=0.4\n",
        "PARmax=0.8\n",
        "bwmin=0.0001\n",
        "bwmax=1.0\n",
        "PVB=numpy.empty((num_feature_elements,2))\n",
        "BW=numpy.zeros((1,num_feature_elements))  \n",
        "JRmax=1\n",
        "JRmin=0"
      ],
      "execution_count": null,
      "outputs": []
    },
    {
      "cell_type": "code",
      "metadata": {
        "id": "S-9koCE226Lm",
        "colab_type": "code",
        "colab": {}
      },
      "source": [
        "harmony_memory=numpy.random.randint(low=0,high=2,size=HM_shape)"
      ],
      "execution_count": null,
      "outputs": []
    },
    {
      "cell_type": "code",
      "metadata": {
        "id": "nIXVfAaN26H_",
        "colab_type": "code",
        "colab": {}
      },
      "source": [
        "def reduce_features(solution, features):\n",
        "    selected_elements_indices = numpy.where(solution ==1)[0]\n",
        "    reduced_features = features[:, selected_elements_indices]\n",
        "    return reduced_features"
      ],
      "execution_count": null,
      "outputs": []
    },
    {
      "cell_type": "code",
      "metadata": {
        "id": "ZXGWJss826F6",
        "colab_type": "code",
        "colab": {}
      },
      "source": [
        "def classification_accuracy(labels, predictions):\n",
        "    correct = numpy.where(labels == predictions)[0]\n",
        "    accuracy = correct.shape[0]/labels.shape[0]\n",
        "    return accuracy"
      ],
      "execution_count": null,
      "outputs": []
    },
    {
      "cell_type": "code",
      "metadata": {
        "id": "FZZQw70J26Cc",
        "colab_type": "code",
        "colab": {}
      },
      "source": [
        "def cal_pop_fitness(pop, features, labels, train_indices, test_indices,classifier):\n",
        "    accuracies = numpy.zeros(pop.shape[0])\n",
        "    idx = 0\n",
        "\n",
        "    for curr_solution in pop:\n",
        "        reduced_features = reduce_features(curr_solution, features)\n",
        "        train_data = reduced_features[train_indices, :]\n",
        "        test_data = reduced_features[test_indices, :]\n",
        "\n",
        "        train_labels = labels[train_indices]\n",
        "        test_labels = labels[test_indices]\n",
        "        if classifier=='SVM':\n",
        "          SV_classifier = sklearn.svm.SVC(kernel='rbf',gamma='scale',C=5000)\n",
        "          SV_classifier.fit(X=train_data, y=train_labels)\n",
        "\n",
        "          predictions = SV_classifier.predict(test_data)\n",
        "          accuracies[idx] = classification_accuracy(test_labels, predictions)\n",
        "          idx = idx + 1\n",
        "        if classifier == 'KNN':\n",
        "          knn=KNeighborsClassifier(n_neighbors=8)\n",
        "          knn.fit(train_data,train_labels)\n",
        "          predictions=knn.predict(test_data)\n",
        "          accuracies[idx]=classification_accuracy(test_labels,predictions)\n",
        "          idx = idx + 1\n",
        "        \n",
        "        if classifier=='MLP':\n",
        "          classifier = MLPClassifier(max_iter=500,activation = 'relu',solver='adam',random_state=1)\n",
        "          classifier.fit(train_data,train_labels)\n",
        "          y_pred = classifier.predict(test_data)\n",
        "          cm = confusion_matrix(y_pred, test_labels)\n",
        "          accuracies[idx]=classification_accuracy(test_labels,y_pred)\n",
        "          idx=idx+1\n",
        "    return accuracies"
      ],
      "execution_count": null,
      "outputs": []
    },
    {
      "cell_type": "code",
      "metadata": {
        "id": "QJHe2b0OFxm2",
        "colab_type": "code",
        "colab": {}
      },
      "source": [
        "num=math.ceil(HMS/2)\n",
        "opp_num=HMS-num\n",
        "classifier='SVM'"
      ],
      "execution_count": null,
      "outputs": []
    },
    {
      "cell_type": "code",
      "metadata": {
        "id": "3D1o77Sd257c",
        "colab_type": "code",
        "colab": {}
      },
      "source": [
        "NCHV = numpy.ones((1, num_feature_elements))\n",
        "best_outputs = []\n",
        "best_opp_outputs = []\n",
        "MaxItr = 10\n",
        "fold=0\n",
        "for train_indices,test_val_indices in kf.split(data_inputs):\n",
        "  fold=fold+1\n",
        "  print(\"Fold : \",fold)\n",
        "  val_indices,test_indices=train_test_split(test_val_indices,test_size=0.5,shuffle=True,random_state=6)\n",
        "  best_test_outputs=[]\n",
        "  harmony_memory=numpy.random.randint(low=0,high=2,size=HM_shape)\n",
        "  for currentIteration in range(MaxItr):\n",
        "      NCHV = numpy.ones((1, num_feature_elements))\n",
        "      print(\"Generation : \", currentIteration+1)\n",
        "        \n",
        "      JR=JRmax-(currentIteration/MaxItr)*(JRmax-JRmin)\n",
        "      if numpy.random.rand()<JR:\n",
        "        opposite_memory=1-harmony_memory\n",
        "        opp_fitness=cal_pop_fitness(opposite_memory,data_inputs,data_outputs,train_indices,val_indices,classifier)\n",
        "        fitness=cal_pop_fitness(harmony_memory,data_inputs,data_outputs,train_indices,val_indices,classifier)\n",
        "        fit_ind = numpy.argpartition(fitness, -num)[-num:]\n",
        "        opp_fit_ind=numpy.argpartition(opp_fitness,-opp_num)[-opp_num:]\n",
        "\n",
        "        harmony_memory[num,:]=harmony_memory[fit_ind,:][0]\n",
        "        harmony_memory[opp_num,:]=opposite_memory[opp_fit_ind,:][0]      \n",
        "      \n",
        "      test_fitness=cal_pop_fitness(harmony_memory,data_inputs,data_outputs,train_indices,test_indices,classifier)\n",
        "      best_test_outputs.append(numpy.max(test_fitness))\n",
        "      print(\"Best Test result :\",max(best_test_outputs))\n",
        "      \n",
        "      fitness = cal_pop_fitness(harmony_memory, data_inputs, data_outputs, train_indices, val_indices,classifier)    \n",
        "      best_outputs.append(numpy.max(fitness))\n",
        "      print(\"Best validation result : \", max(best_outputs))\n",
        "    \n",
        "      \n",
        "      PAR = (PARmax - PARmin) / (MaxItr) * currentIteration + PARmin\n",
        "      PAR=0.3\n",
        "      coef = numpy.log(bwmin / bwmax) / MaxItr\n",
        "      for pp in range(num_feature_elements):\n",
        "          BW[0, pp] = bwmax * numpy.exp(coef * currentIteration)\n",
        "\n",
        "      \n",
        "      for i in range(num_feature_elements):\n",
        "          ran = numpy.random.rand()\n",
        "          if ran < HMCR:\n",
        "              index = numpy.random.randint(0, HMS)\n",
        "              NCHV[0, i] = harmony_memory[index, i]\n",
        "              pvbran = numpy.random.rand()\n",
        "              if pvbran < PAR:\n",
        "                  pvbran1 = numpy.random.rand()\n",
        "                  result = NCHV[0, i]\n",
        "                  if pvbran1 < 0.5:\n",
        "                      result =1-result\n",
        "\n",
        "          else:\n",
        "              NCHV[0, i] = numpy.random.randint(low=0,high=2,size=1)\n",
        "      \n",
        "      new_fitness = cal_pop_fitness(NCHV, data_inputs, data_outputs, train_indices, val_indices,classifier)\n",
        "      if new_fitness > min(fitness):\n",
        "          min_fit_idx = numpy.where(fitness == min(fitness))\n",
        "          harmony_memory[min_fit_idx, :] = NCHV\n",
        "          fitness[min_fit_idx] = new_fitness\n",
        "      \n",
        "      \n",
        "  fitness = cal_pop_fitness(harmony_memory, data_inputs, data_outputs, train_indices, test_indices,classifier)\n",
        "\n",
        "  best_match_idx = numpy.where(fitness == numpy.max(fitness))[0]\n",
        "  best_match_idx = best_match_idx[0]\n",
        "\n",
        "  best_solution = harmony_memory[best_match_idx, :]\n",
        "  best_solution_indices = numpy.where(best_solution == 1)[0]\n",
        "  best_solution_num_elements = best_solution_indices.shape[0]\n",
        "  best_solution_fitness = numpy.max(fitness)\n",
        "\n",
        "  print(\"best_match_idx : \", best_match_idx)\n",
        "  print(\"best_solution : \", best_solution)\n",
        "  print(\"Selected indices : \", best_solution_indices)\n",
        "  print(\"Number of selected elements : \", best_solution_num_elements)\n",
        "  print(\"Best solution fitness : \", best_solution_fitness)\n"
      ],
      "execution_count": null,
      "outputs": []
    },
    {
      "cell_type": "code",
      "metadata": {
        "id": "apaRuIZCSY5V",
        "colab_type": "code",
        "colab": {}
      },
      "source": [
        "data=data_inputs[:,best_solution_indices]"
      ],
      "execution_count": null,
      "outputs": []
    },
    {
      "cell_type": "code",
      "metadata": {
        "id": "1PU2Ybz-SADh",
        "colab_type": "code",
        "colab": {}
      },
      "source": [
        "import pandas as pd\n",
        "df=pd.DataFrame(data)\n",
        "df.to_csv('/content/drive/My Drive/Herlev/Herlev_CSV/Googlenet_Selected.csv')"
      ],
      "execution_count": null,
      "outputs": []
    },
    {
      "cell_type": "code",
      "metadata": {
        "id": "nIg6G17GTVST",
        "colab_type": "code",
        "colab": {}
      },
      "source": [
        ""
      ],
      "execution_count": null,
      "outputs": []
    }
  ]
}